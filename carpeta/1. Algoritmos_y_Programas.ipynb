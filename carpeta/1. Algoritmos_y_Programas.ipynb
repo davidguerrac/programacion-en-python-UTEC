{
  "nbformat": 4,
  "nbformat_minor": 0,
  "metadata": {
    "colab": {
      "provenance": [],
      "include_colab_link": true
    },
    "kernelspec": {
      "name": "python3",
      "display_name": "Python 3"
    },
    "language_info": {
      "name": "python"
    }
  },
  "cells": [
    {
      "cell_type": "markdown",
      "metadata": {
        "id": "view-in-github",
        "colab_type": "text"
      },
      "source": [
        "<a href=\"https://colab.research.google.com/github/davidguerrac/programacion-en-python-UTEC/blob/main/carpeta/1.%20Algoritmos_y_Programas.ipynb\" target=\"_parent\"><img src=\"https://colab.research.google.com/assets/colab-badge.svg\" alt=\"Open In Colab\"/></a>"
      ]
    },
    {
      "cell_type": "markdown",
      "source": [
        "<img src=\"https://www.ctic.uni.edu.pe/wp-content/uploads/2022/04/588px-x-348px-web-1.png\" alt=\"HTML5 Icon\" width=\"900\" height=\"350\" >"
      ],
      "metadata": {
        "id": "XWp-1a3HCQoh"
      }
    },
    {
      "cell_type": "markdown",
      "source": [
        "<h1 align=center><font size = 5> Algoritmos y programas\n",
        "</font></h1>\n",
        "\n",
        "---"
      ],
      "metadata": {
        "id": "6bpRTn-4CTwV"
      }
    },
    {
      "cell_type": "markdown",
      "source": [
        "## Objetivo\n",
        "\n",
        "Al final del laboratorio, los estudiantes deberían ser capaces de comprender y aplicar las operaciones básicas de Python en la solución de problemas, entender cómo se pueden usar estos conceptos en aplicaciones prácticas y cotidianas, y sentirse motivados para explorar más sobre la programación y su potencial para facilitar y optimizar tareas y decisiones.\n"
      ],
      "metadata": {
        "id": "yYAqVvD3RHbf"
      }
    },
    {
      "cell_type": "markdown",
      "source": [
        "#Ejercicio 1:"
      ],
      "metadata": {
        "id": "aRzqyeNfCcPm"
      }
    },
    {
      "cell_type": "markdown",
      "source": [
        "\n",
        "\n",
        "**Sumar Dos Números**\n",
        "\n",
        "Algoritmo:\n",
        "\n",
        "* Obtener dos números.\n",
        "* Sumar los dos números.\n",
        "* Mostrar el resultado."
      ],
      "metadata": {
        "id": "x0CFZxg1_uFy"
      }
    },
    {
      "cell_type": "markdown",
      "source": [
        "\n",
        "**Pseudo-código:**"
      ],
      "metadata": {
        "id": "ktErA-x2ABlB"
      }
    },
    {
      "cell_type": "code",
      "execution_count": null,
      "metadata": {
        "id": "KO4KO9rA_XIT",
        "outputId": "45ec4ea2-47b6-46a9-99df-25c8e17d3031",
        "colab": {
          "base_uri": "https://localhost:8080/",
          "height": 35
        }
      },
      "outputs": [
        {
          "output_type": "execute_result",
          "data": {
            "text/plain": [
              "'\\nInicio\\n    Leer primerNumero\\n    Leer segundoNumero\\n    resultado = primerNumero + segundoNumero\\n    Escribir resultado\\nFin\\n'"
            ],
            "application/vnd.google.colaboratory.intrinsic+json": {
              "type": "string"
            }
          },
          "metadata": {},
          "execution_count": 1
        }
      ],
      "source": [
        "\"\"\"\n",
        "Inicio\n",
        "    Leer primerNumero\n",
        "    Leer segundoNumero\n",
        "    resultado = primerNumero + segundoNumero\n",
        "    Escribir resultado\n",
        "Fin\n",
        "\"\"\""
      ]
    },
    {
      "cell_type": "markdown",
      "source": [
        "**Código:**"
      ],
      "metadata": {
        "id": "X3ydvX4kAu7h"
      }
    },
    {
      "cell_type": "code",
      "source": [
        "#Asignar un valor a un objeto\n",
        "a=20\n",
        "b=10"
      ],
      "metadata": {
        "id": "ufwsBTsttWe9"
      },
      "execution_count": null,
      "outputs": []
    },
    {
      "cell_type": "code",
      "source": [
        "resultado = a + b\n"
      ],
      "metadata": {
        "id": "CXRsWWOaCjcl"
      },
      "execution_count": null,
      "outputs": []
    },
    {
      "cell_type": "code",
      "source": [
        "resultado"
      ],
      "metadata": {
        "colab": {
          "base_uri": "https://localhost:8080/"
        },
        "id": "JNs-5-aKt7Fo",
        "outputId": "2ef5242e-ef2c-40d6-edc0-eabf2bca21e8"
      },
      "execution_count": null,
      "outputs": [
        {
          "output_type": "execute_result",
          "data": {
            "text/plain": [
              "30"
            ]
          },
          "metadata": {},
          "execution_count": 5
        }
      ]
    },
    {
      "cell_type": "code",
      "source": [
        "a =  int (input('Ingrese el primer numero: '))\n",
        "b =  int (input('Ingrese el primer numero: '))"
      ],
      "metadata": {
        "colab": {
          "base_uri": "https://localhost:8080/"
        },
        "id": "Jh64CLGvuNaL",
        "outputId": "10e20717-271b-425c-8f4e-0ec6adb33ec0"
      },
      "execution_count": null,
      "outputs": [
        {
          "name": "stdout",
          "output_type": "stream",
          "text": [
            "Ingrese el primer numero: 45\n",
            "Ingrese el primer numero: 30\n"
          ]
        }
      ]
    },
    {
      "cell_type": "code",
      "source": [
        "#cast casteo\n",
        "\n",
        "a =  int (input('Ingrese el primer numero: '))\n",
        "b =  int (input('Ingrese el primer numero: '))\n",
        "resultado = a + b\n",
        "print('El resultado es: ')\n",
        "resultado"
      ],
      "metadata": {
        "colab": {
          "base_uri": "https://localhost:8080/"
        },
        "id": "l0WUJzYqvkQL",
        "outputId": "5df7d6be-5af4-484d-b7b1-576df1a8a775"
      },
      "execution_count": null,
      "outputs": [
        {
          "output_type": "stream",
          "name": "stdout",
          "text": [
            "Ingrese el primer numero: 13\n",
            "Ingrese el primer numero: 29\n",
            "El resultado es: \n"
          ]
        },
        {
          "output_type": "execute_result",
          "data": {
            "text/plain": [
              "42"
            ]
          },
          "metadata": {},
          "execution_count": 22
        }
      ]
    },
    {
      "cell_type": "markdown",
      "source": [
        "#Ejercicio 2:"
      ],
      "metadata": {
        "id": "vRz5f9r9Cj24"
      }
    },
    {
      "cell_type": "markdown",
      "source": [
        "**Convertir Grados Celsius a Fahrenheit**\n",
        "\n",
        "Algoritmo:\n",
        "\n",
        "* Obtener la temperatura en grados Celsius.\n",
        "* Convertir la temperatura a Fahrenheit usando la fórmula:\n",
        "\n",
        "<img src=\"https://media.geeksforgeeks.org/wp-content/uploads/20220817110636/FtoCformula3.jpg\" alt=\"HTML5 Icon\" width=\"300\" height=\"100\" >\n",
        "\n",
        "* Mostrar la temperatura en Fahrenheit."
      ],
      "metadata": {
        "id": "nye6e5D9Db-C"
      }
    },
    {
      "cell_type": "markdown",
      "source": [
        "**Pseudo-código:**"
      ],
      "metadata": {
        "id": "demRL1imEPst"
      }
    },
    {
      "cell_type": "code",
      "source": [
        "\"\"\"\n",
        "Inicio\n",
        "Recibir la temperatura en grados celsius\n",
        "aplicar la formula  de conversion\n",
        "imprimir el resultado\n",
        "Fin\n",
        "\"\"\""
      ],
      "metadata": {
        "id": "0P6hICjcEUAx"
      },
      "execution_count": null,
      "outputs": []
    },
    {
      "cell_type": "markdown",
      "source": [
        "**Código:**"
      ],
      "metadata": {
        "id": "bXa53UH-ESOI"
      }
    },
    {
      "cell_type": "code",
      "source": [
        "temperatura_celcius = int (input('Ingrese la temperatura en celsius: '))\n",
        "temperatura_fahrenheit = temperatura_celcius*9/5 +32\n",
        "\n",
        "print('La temperatura en fahrenheit es:', temperatura_fahrenheit)"
      ],
      "metadata": {
        "id": "q2NlbgyLEUTv",
        "colab": {
          "base_uri": "https://localhost:8080/"
        },
        "outputId": "fd629cd2-90b4-4866-ade1-d1cc037cf152"
      },
      "execution_count": null,
      "outputs": [
        {
          "output_type": "stream",
          "name": "stdout",
          "text": [
            "Ingrese la temperatura en celsius: 30\n",
            "La temperatura en fahrenheit es: 86.0\n"
          ]
        }
      ]
    },
    {
      "cell_type": "markdown",
      "source": [
        "#Ejercicio 3:"
      ],
      "metadata": {
        "id": "k8rphMT_DBuN"
      }
    },
    {
      "cell_type": "markdown",
      "source": [
        "**Calcular el Área de un Rectángulo**\n",
        "\n",
        "Algoritmo:\n",
        "\n",
        "* Obtener la longitud del rectángulo.\n",
        "* Obtener el ancho del rectángulo.\n",
        "* Calcular el área multiplicando la longitud por el ancho.\n",
        "* Mostrar el área."
      ],
      "metadata": {
        "id": "DJ2Y_9SEExIO"
      }
    },
    {
      "cell_type": "markdown",
      "source": [
        "**Pseudo-código:**"
      ],
      "metadata": {
        "id": "Xe3lT7n0FIWM"
      }
    },
    {
      "cell_type": "code",
      "source": [
        "\"\"\"\n",
        "Inicio\n",
        "Recibir la longitud del rectagulo\n",
        "recibir el acho del rectangulo\n",
        "imprimir el resultado\n",
        "Fin\n",
        "\"\"\""
      ],
      "metadata": {
        "id": "UyRf86xIFIWY",
        "colab": {
          "base_uri": "https://localhost:8080/",
          "height": 35
        },
        "outputId": "4108b2bd-e77a-47c2-d90f-beb1700768e7"
      },
      "execution_count": null,
      "outputs": [
        {
          "output_type": "execute_result",
          "data": {
            "text/plain": [
              "'\\nInicio\\nRecibir la longitud del rectagulo\\nrecibir el acho del rectangulo\\nimprimir el resultado\\nFin\\n'"
            ],
            "application/vnd.google.colaboratory.intrinsic+json": {
              "type": "string"
            }
          },
          "metadata": {},
          "execution_count": 31
        }
      ]
    },
    {
      "cell_type": "markdown",
      "source": [
        "**Código:**"
      ],
      "metadata": {
        "id": "-PppYyO4FIWY"
      }
    },
    {
      "cell_type": "code",
      "source": [
        " longitud = int (input('Ingrese la longitud: '))\n",
        " ancho = int (input('Ingrese el ancho: '))\n",
        " resultado = longitud*ancho\n",
        " print('El resultado es: ', resultado)\n"
      ],
      "metadata": {
        "id": "IJvYMur8FIWY",
        "colab": {
          "base_uri": "https://localhost:8080/"
        },
        "outputId": "c1614854-1758-4d8b-c414-8a09626f851f"
      },
      "execution_count": null,
      "outputs": [
        {
          "output_type": "stream",
          "name": "stdout",
          "text": [
            "Ingrese la longitud: 8\n",
            "Ingrese el ancho: 7\n",
            "El resultado es:  56\n"
          ]
        }
      ]
    },
    {
      "cell_type": "markdown",
      "source": [
        "#Ejercicio 4:"
      ],
      "metadata": {
        "id": "bttq0JL2DDBP"
      }
    },
    {
      "cell_type": "markdown",
      "source": [
        "**Multiplicar Dos Números**\n",
        "\n",
        "Algoritmo:\n",
        "\n",
        "* Obtener dos números del usuario.\n",
        "* Multiplicar los dos números.\n",
        "* Mostrar el resultado de la multiplicación.\n"
      ],
      "metadata": {
        "id": "CJE_FRnaGSuL"
      }
    },
    {
      "cell_type": "markdown",
      "source": [
        "**Pseudo-código:**"
      ],
      "metadata": {
        "id": "nenh1ng2GaJJ"
      }
    },
    {
      "cell_type": "code",
      "source": [
        "\"\"\"\n",
        "Inicio\n",
        "obtener dos nuemeros del usuario\n",
        "moostrar el resultado de la multiplicacion\n",
        "Fin\n",
        "\"\"\""
      ],
      "metadata": {
        "id": "4NcqRU8HGaJK"
      },
      "execution_count": null,
      "outputs": []
    },
    {
      "cell_type": "markdown",
      "source": [
        "**Código:**"
      ],
      "metadata": {
        "id": "6QdwbyWGGaJK"
      }
    },
    {
      "cell_type": "code",
      "source": [
        "c =  int (input('Ingrese el primer numero: '))\n",
        "d =  int (input('Ingrese el segundo numero: '))\n",
        "resultado = c * d\n",
        "print('El resultado es: ' , resultado)\n",
        "\n",
        "\n"
      ],
      "metadata": {
        "id": "jqOfKNIsGaJL",
        "colab": {
          "base_uri": "https://localhost:8080/"
        },
        "outputId": "d2448c63-713a-451d-ccbc-c7c8f1330540"
      },
      "execution_count": null,
      "outputs": [
        {
          "output_type": "stream",
          "name": "stdout",
          "text": [
            "Ingrese el primer numero: 8\n",
            "Ingrese el segundo numero: 9\n",
            "El resultado es:  72\n"
          ]
        }
      ]
    },
    {
      "cell_type": "markdown",
      "source": [
        "#Ejercicio 5:"
      ],
      "metadata": {
        "id": "kYm5_430DEO4"
      }
    },
    {
      "cell_type": "markdown",
      "source": [
        "**Calcular el Perímetro de un Cuadrado**"
      ],
      "metadata": {
        "id": "qyF9Ig_6GhFJ"
      }
    },
    {
      "cell_type": "markdown",
      "source": [
        "Algoritmo:\n",
        "\n",
        "* Obtener la longitud de un lado del cuadrado.\n",
        "* Calcular el perímetro multiplicando la longitud del lado por cuatro.\n",
        "* Mostrar el perímetro."
      ],
      "metadata": {
        "id": "fJ02vCBIG5Ay"
      }
    },
    {
      "cell_type": "markdown",
      "source": [
        "**Pseudo-código:**"
      ],
      "metadata": {
        "id": "vYmE9dKfHFko"
      }
    },
    {
      "cell_type": "code",
      "source": [
        "\"\"\"\n",
        "Inicio\n",
        "obtener la longitud de un lado del cuadro\n",
        "imprimir el perimetro  multiplicado por cuatro\n",
        "Fin\n",
        "\"\"\""
      ],
      "metadata": {
        "id": "uDLjzvLUHFkp"
      },
      "execution_count": null,
      "outputs": []
    },
    {
      "cell_type": "markdown",
      "source": [
        "**Código:**"
      ],
      "metadata": {
        "id": "Ojf15UuuHFkp"
      }
    },
    {
      "cell_type": "code",
      "source": [
        "y =  int (input('Ingrese la longitud de un lado de cuadrado: '))\n",
        "resultado = y * 4\n",
        "print('El resultado es: ' , resultado)\n"
      ],
      "metadata": {
        "id": "G_vWP_O8HFkq",
        "colab": {
          "base_uri": "https://localhost:8080/"
        },
        "outputId": "bcdbde8a-b9d3-4338-aa49-9c38ce24be43"
      },
      "execution_count": null,
      "outputs": [
        {
          "output_type": "stream",
          "name": "stdout",
          "text": [
            "Ingrese la longitud de un lado de cuadrado: 4\n",
            "El resultado es:  16\n"
          ]
        }
      ]
    },
    {
      "cell_type": "markdown",
      "source": [
        "#Ejercicio 6:"
      ],
      "metadata": {
        "id": "IbseiCbIDFn0"
      }
    },
    {
      "cell_type": "markdown",
      "source": [
        "**Dividir Dos Números**\n",
        "\n",
        "Algoritmo:\n",
        "\n",
        "* Obtener dos números, donde el segundo no debe ser cero.\n",
        "* Dividir el primer número por el segundo.\n",
        "* Mostrar el resultado de la división."
      ],
      "metadata": {
        "id": "2hmcZ5tUHiZ5"
      }
    },
    {
      "cell_type": "markdown",
      "source": [
        "**Pseudo-código:**"
      ],
      "metadata": {
        "id": "sZIfUucIHrL6"
      }
    },
    {
      "cell_type": "code",
      "source": [
        "\"\"\"\n",
        "Inicio\n",
        "obtener el primer y el segundo numero debe ser mayor a 0\n",
        "imprimir el resultado de la division\n",
        "Fin\n",
        "\"\"\""
      ],
      "metadata": {
        "id": "iTjqtjxiHrL7",
        "outputId": "b15b1f8a-77c9-4269-ceab-acfa909534ff",
        "colab": {
          "base_uri": "https://localhost:8080/",
          "height": 35
        }
      },
      "execution_count": null,
      "outputs": [
        {
          "output_type": "execute_result",
          "data": {
            "text/plain": [
              "'\\nInicio\\nobtener el primer y el segundo numero debe ser mayor a 0\\nimprimir el resultado de la division\\nFin\\n'"
            ],
            "application/vnd.google.colaboratory.intrinsic+json": {
              "type": "string"
            }
          },
          "metadata": {},
          "execution_count": 2
        }
      ]
    },
    {
      "cell_type": "markdown",
      "source": [
        "**Código:**"
      ],
      "metadata": {
        "id": "6_NZCiOyHrL7"
      }
    },
    {
      "cell_type": "code",
      "source": [
        "z =  int (input('Ingrese el primer numero: '))\n",
        "w =  int (input('Ingrese el segundo numero: '))\n",
        "while  w== 0:\n",
        "  print(\"El segundo número no puede ser cero. Inténtelo de nuevo.\")\n",
        "  w = int (input(\"Ingrese el segundo número (debe ser diferente de cero): \"))\n",
        "\n",
        "resultado = z/w\n",
        "print('El resultado es: ' , resultado)\n"
      ],
      "metadata": {
        "id": "KjzD3HZOHrL7",
        "colab": {
          "base_uri": "https://localhost:8080/"
        },
        "outputId": "2995c21c-acb8-4c2a-e3a4-86fefc256c03"
      },
      "execution_count": null,
      "outputs": [
        {
          "output_type": "stream",
          "name": "stdout",
          "text": [
            "Ingrese el primer numero: 5\n",
            "Ingrese el segundo numero: 5\n",
            "El resultado es:  1.0\n"
          ]
        }
      ]
    },
    {
      "cell_type": "markdown",
      "source": [
        "#Ejercicio 7:"
      ],
      "metadata": {
        "id": "Hz9aLTBYDGcF"
      }
    },
    {
      "cell_type": "markdown",
      "source": [
        "**Calcular el Área de un Triángulo**\n",
        "\n",
        "Algoritmo:\n",
        "\n",
        "* Obtener la base del triángulo.\n",
        "* Obtener la altura del triángulo.\n",
        "* Calcular el área usando la fórmula:\n",
        "\n",
        "<img src=\"https://definicionesyconceptos.com/wp-content/uploads/2021/06/Area-del-triangulo-%C2%BFcomo-calcular.jpg\" alt=\"HTML5 Icon\" width=\"300\" height=\"200\" >\n",
        "\n",
        "* Mostrar el área.\n"
      ],
      "metadata": {
        "id": "K8fhtBoqI1HW"
      }
    },
    {
      "cell_type": "markdown",
      "source": [
        "**Pseudo-código:**"
      ],
      "metadata": {
        "id": "3eQM2quhKl1L"
      }
    },
    {
      "cell_type": "markdown",
      "source": [
        "##\n",
        "// Se definen dos variables vacías para almacenar las cadenas de entrada\n",
        "Cadena1: \"\"\n",
        "Cadena2: \"\"\n",
        "\n",
        "// Se solicita al usuario que ingrese la primera cadena\n",
        "Ingrese Cadena1:\n",
        "\n",
        "// Se almacena la cadena ingresada en la variable Cadena1\n",
        "Cadena1 = valor ingresado por el usuario\n",
        "\n",
        "// Se solicita al usuario que ingrese la segunda cadena\n",
        "Ingrese Cadena2:\n",
        "\n",
        "// Se almacena la cadena ingresada en la variable Cadena2\n",
        "Cadena2 = valor ingresado por el usuario\n",
        "\n",
        "// Se define una variable vacía para almacenar la cadena concatenada\n",
        "CadenaConcatenada: \"\"\n",
        "\n",
        "// Se recorren los caracteres de la Cadena1 y se van agregando a la CadenaConcatenada\n",
        "Para cada caracter en Cadena1:\n",
        "  CadenaConcatenada = CadenaConcatenada + caracter\n",
        "\n",
        "// Se recorren los caracteres de la Cadena2 y se van agregando a la CadenaConcatenada\n",
        "Para cada caracter en Cadena2:\n",
        "  CadenaConcatenada = CadenaConcatenada + caracter\n",
        "\n",
        "// Se muestra la cadena concatenada\n",
        "Mostrar CadenaConcatenada\n"
      ],
      "metadata": {
        "id": "pJogiUV3ndo-"
      }
    },
    {
      "cell_type": "markdown",
      "source": [
        "**Código:**"
      ],
      "metadata": {
        "id": "nNswfr4RKl1M"
      }
    },
    {
      "cell_type": "code",
      "source": [
        "def concatenar_cadenas(cadena1, cadena2):\n",
        "  \"\"\"\n",
        "  Función que concatena dos cadenas de texto.\n",
        "\n",
        "  Argumentos:\n",
        "    cadena1 (str): La primera cadena de texto.\n",
        "    cadena2 (str): La segunda cadena de texto.\n",
        "\n",
        "  Retorno:4\n",
        "\n",
        "    str: La cadena concatenada.\n",
        "  \"\"\"\n",
        "  return cadena1 + cadena2\n",
        "\n",
        "# Se solicitan las cadenas al usuario\n",
        "cadena1 = input(\"Ingrese la primera cadena: \")\n",
        "cadena2 = input(\"Ingrese la segunda cadena: \")\n",
        "\n",
        "# Se llama a la función para concatenar las cadenas\n",
        "cadena_concatenada = concatenar_cadenas(cadena1, cadena2)\n",
        "\n",
        "# Se muestra la cadena concatenada\n",
        "print(\"La cadena concatenada es:\", cadena_concatenada)"
      ],
      "metadata": {
        "id": "V24IQeelKl1N",
        "outputId": "dd482ffc-9761-400c-b8ed-ed5198608d2a",
        "colab": {
          "base_uri": "https://localhost:8080/"
        }
      },
      "execution_count": null,
      "outputs": [
        {
          "output_type": "stream",
          "name": "stdout",
          "text": [
            "Ingrese la primera cadena: 4\n",
            "Ingrese la segunda cadena: 5\n",
            "La cadena concatenada es: 45\n"
          ]
        }
      ]
    },
    {
      "cell_type": "markdown",
      "source": [
        "#Ejercicio 8:"
      ],
      "metadata": {
        "id": "yoHWKi3QDHdW"
      }
    },
    {
      "cell_type": "markdown",
      "source": [
        "**Concatenar Dos Cadenas**\n",
        "\n",
        "Algoritmo:\n",
        "\n",
        "* Obtener dos cadenas de texto del usuario.\n",
        "* Concatenar las dos cadenas.\n",
        "* Mostrar la cadena resultante."
      ],
      "metadata": {
        "id": "PLF2oUmVKa2Y"
      }
    },
    {
      "cell_type": "code",
      "source": [
        "z =  int (input('Ingrese el primer numero: '))"
      ],
      "metadata": {
        "id": "7cdgC9o3h2m9"
      },
      "execution_count": null,
      "outputs": []
    },
    {
      "cell_type": "markdown",
      "source": [
        "\n",
        "\n",
        "```\n",
        "# This is formatted as code\n",
        "```\n",
        "\n",
        "**Pseudo-código:**"
      ],
      "metadata": {
        "id": "W5C6p2dEKjwG"
      }
    },
    {
      "cell_type": "code",
      "source": [
        "\"\""
      ],
      "metadata": {
        "id": "sFQ8WAbTis8r"
      },
      "execution_count": null,
      "outputs": []
    },
    {
      "cell_type": "markdown",
      "source": [
        "**Código:**"
      ],
      "metadata": {
        "id": "stYESX50KjwH"
      }
    },
    {
      "cell_type": "code",
      "source": [],
      "metadata": {
        "id": "X4f87galKjwH"
      },
      "execution_count": null,
      "outputs": []
    },
    {
      "cell_type": "markdown",
      "source": [
        "#Ejercicio 9:"
      ],
      "metadata": {
        "id": "JBVIn59GK9K2"
      }
    },
    {
      "cell_type": "markdown",
      "source": [
        "**Calculadora de Propinas**\n",
        "\n",
        "Algoritmo:\n",
        "\n",
        "* Obtener el monto total de la factura del usuario.\n",
        "* Preguntar al usuario el porcentaje de propina que desea dar.\n",
        "* Calcular el monto de la propina basado en el porcentaje.\n",
        "* Calcular el total general sumando la propina al monto original de la factura.\n",
        "* Mostrar el monto de la propina y el total a pagar."
      ],
      "metadata": {
        "id": "AAMXNVHQLEsn"
      }
    },
    {
      "cell_type": "markdown",
      "source": [
        "**Pseudo-código:**"
      ],
      "metadata": {
        "id": "8Je8ZEJwLV9B"
      }
    },
    {
      "cell_type": "code",
      "source": [],
      "metadata": {
        "id": "URyNV2uwLV9C"
      },
      "execution_count": null,
      "outputs": []
    },
    {
      "cell_type": "markdown",
      "source": [
        "**Código:**"
      ],
      "metadata": {
        "id": "N6ykGmAOLV9C"
      }
    },
    {
      "cell_type": "code",
      "source": [],
      "metadata": {
        "id": "hhzMUF6LLV9D"
      },
      "execution_count": null,
      "outputs": []
    },
    {
      "cell_type": "markdown",
      "source": [
        "#Ejercicio 10:"
      ],
      "metadata": {
        "id": "rvapOr1vK-T_"
      }
    },
    {
      "cell_type": "markdown",
      "source": [
        "\n",
        "**Generador de Contraseñas**\n",
        "\n",
        "Algoritmo:\n",
        "\n",
        "* Preguntar al usuario la longitud deseada para la contraseña.\n",
        "* Generar una contraseña aleatoria utilizando una combinación de letras mayúsculas, minúsculas, números y símbolos.\n",
        "* Mostrar la contraseña generada al usuario."
      ],
      "metadata": {
        "id": "vg-6eSCvLTnx"
      }
    },
    {
      "cell_type": "markdown",
      "source": [
        "**Pseudo-código:**"
      ],
      "metadata": {
        "id": "YgBxkKISLYPv"
      }
    },
    {
      "cell_type": "code",
      "source": [
        "import string\n",
        "import random\n",
        "\n",
        "caracteres = string.ascii_letters + string.digits + string.punctuation\n",
        "contraseña = random.choice (caracteres)\n",
        "\n",
        "print(contraseña)\n",
        "\n",
        "\n"
      ],
      "metadata": {
        "id": "QhFNxAX9LYPw",
        "outputId": "e996d00a-0486-45fb-c0af-d6c54bd8af01",
        "colab": {
          "base_uri": "https://localhost:8080/"
        }
      },
      "execution_count": null,
      "outputs": [
        {
          "output_type": "stream",
          "name": "stdout",
          "text": [
            "Z\n"
          ]
        }
      ]
    },
    {
      "cell_type": "markdown",
      "source": [
        "**Código:**"
      ],
      "metadata": {
        "id": "lgoZ0gUOLYPw"
      }
    },
    {
      "cell_type": "code",
      "source": [],
      "metadata": {
        "id": "-LJk0UNCLYPw"
      },
      "execution_count": null,
      "outputs": []
    },
    {
      "cell_type": "markdown",
      "source": [
        "#Ejercicio 11:"
      ],
      "metadata": {
        "id": "39GxEHMDK_nA"
      }
    },
    {
      "cell_type": "markdown",
      "source": [
        "**Calculadora de Edad de Mascotas en Años Humanos**\n",
        "\n",
        "Algoritmo:\n",
        "\n",
        "* Preguntar al usuario el tipo de mascota (perro o gato).\n",
        "* Obtener la edad de la mascota en años.\n",
        "* Calcular la edad equivalente en años humanos usando un factor * multiplicativo (se asume 7 para perros y 6 para gatos).\n",
        "*  Mostrar la edad de la mascota en años humanos."
      ],
      "metadata": {
        "id": "1owrR9ITLEEv"
      }
    },
    {
      "cell_type": "markdown",
      "source": [
        "**Pseudo-código:**"
      ],
      "metadata": {
        "id": "lTbjQwFCLZ5J"
      }
    },
    {
      "cell_type": "code",
      "source": [
        "#inicio\n",
        "#preguntar por el tipo de mascota\n",
        "#calcular la edad de la mascota en años\n",
        "#mostrar resultados\n",
        "#fin\n",
        "\n"
      ],
      "metadata": {
        "id": "-9B3G-VPLZ5U"
      },
      "execution_count": null,
      "outputs": []
    },
    {
      "cell_type": "markdown",
      "source": [
        "**Código:**"
      ],
      "metadata": {
        "id": "xVeRXs58LZ5V"
      }
    },
    {
      "cell_type": "code",
      "source": [
        "mascota = input('ingrese su tipo de mascota (perro o gato):')\n",
        "edad = int(input('ingresa la edad de tu mascota:'))\n",
        "if mascota=='perro':\n",
        "  edad_mascota= edad*7\n",
        "else:\n",
        "  edad_mascota = edad*6\n",
        "\n",
        "print(f\"tu {mascota} tiene {edad_mascota} años en humano\")"
      ],
      "metadata": {
        "id": "1FPU9uG2LZ5V",
        "outputId": "fb91444c-e56c-4efa-df95-a9b074375e4a",
        "colab": {
          "base_uri": "https://localhost:8080/"
        }
      },
      "execution_count": null,
      "outputs": [
        {
          "output_type": "stream",
          "name": "stdout",
          "text": [
            "ingrese su tipo de mascota (perro o gato):gato\n",
            "ingresa la edad de tu mascota:3\n",
            "tu gato tiene 18 años en humano\n"
          ]
        }
      ]
    },
    {
      "cell_type": "markdown",
      "source": [
        "#Ejercicio 12:"
      ],
      "metadata": {
        "id": "DAGbYDAAP_1t"
      }
    },
    {
      "cell_type": "markdown",
      "source": [
        "**Calculadora de Interés Compuesto**\n",
        "\n",
        "Algoritmo:\n",
        "\n",
        "* Preguntar al usuario el monto inicial de la inversión.\n",
        "* Preguntar la tasa de interés anual (en porcentaje).\n",
        "* Preguntar el número de años que la inversión será mantenida.\n",
        "* Calcular el monto final usando la fórmula de interés compuesto.\n",
        "* Mostrar el monto final después de los años especificados.\n"
      ],
      "metadata": {
        "id": "zbHGgy8lQED9"
      }
    },
    {
      "cell_type": "code",
      "source": [],
      "metadata": {
        "id": "p_2m37U83jdK"
      },
      "execution_count": null,
      "outputs": []
    },
    {
      "cell_type": "markdown",
      "source": [
        "**Pseudo-código:**"
      ],
      "metadata": {
        "id": "S_8pekqFQSwO"
      }
    },
    {
      "cell_type": "code",
      "source": [
        "#inicio\n",
        "#preguntar por al uuario el monto inicial , tasa de interes y numero de años\n",
        "#hacer el calucl del monto final\n",
        "#mostrar el reultado"
      ],
      "metadata": {
        "id": "2rpduVNpQSwO"
      },
      "execution_count": 5,
      "outputs": []
    },
    {
      "cell_type": "markdown",
      "source": [
        "**Código:**"
      ],
      "metadata": {
        "id": "ccOFTCawQSwP"
      }
    },
    {
      "cell_type": "code",
      "source": [
        "monto_inicial = float(input(\"Ingrese el monto inicial: \"))\n",
        "tasa_interes_anual = float(input(\"Ingrese la tasa de interés anual (en porcentaje): \"))\n",
        "numero_años = int(input(\"Ingrese el número de años: \"))\n",
        "\n",
        "tasa_interes_decimal = tasa_interes_anual / 100\n",
        "exponente = numero_años\n",
        "monto_final = monto_inicial * (1 + tasa_interes_decimal) ** exponente\n",
        "\n",
        "print(f\"El monto final después de {numero_años} años es: {monto_final:.2f}\")"
      ],
      "metadata": {
        "id": "Gne-RFrG4-BG",
        "outputId": "8a118430-6010-4a58-ef37-6c86962afe0a",
        "colab": {
          "base_uri": "https://localhost:8080/"
        }
      },
      "execution_count": 4,
      "outputs": [
        {
          "output_type": "stream",
          "name": "stdout",
          "text": [
            "Ingrese el monto inicial: 500\n",
            "Ingrese la tasa de interés anual (en porcentaje): 0.15\n",
            "Ingrese el número de años: 2\n",
            "El monto final después de 2 años es: 501.50\n"
          ]
        }
      ]
    },
    {
      "cell_type": "markdown",
      "source": [],
      "metadata": {
        "id": "lEvr2-Oe47Wr"
      }
    },
    {
      "cell_type": "markdown",
      "source": [
        "# Ejercicio 13:"
      ],
      "metadata": {
        "id": "ZZDR1mBbQURN"
      }
    },
    {
      "cell_type": "markdown",
      "source": [
        "**Calculadora de Calorías**\n",
        "\n",
        "Algoritmo:\n",
        "\n",
        "* Preguntar al usuario su peso en kilogramos.\n",
        "* Preguntar la duración de la actividad física en minutos.\n",
        "* Asignar un valor fijo de calorías quemadas por minuto según un promedio (ej. 8 calorías/minuto).\n",
        "* Calcular el total de calorías quemadas.\n",
        "* Mostrar las calorías totales quemadas.\n"
      ],
      "metadata": {
        "id": "xbvh-5XmQWcC"
      }
    },
    {
      "cell_type": "markdown",
      "source": [
        "**Pseudo-código:**"
      ],
      "metadata": {
        "id": "J4884mQ-Qs3W"
      }
    },
    {
      "cell_type": "code",
      "source": [
        "#inicio\n",
        "#preguntar por al uuario peso en kilogramos y duracion de la actividad\n",
        "#calculo de la calorias quemadas\n",
        "#mostrar el reultado"
      ],
      "metadata": {
        "id": "fVTGcp18Qs3X"
      },
      "execution_count": null,
      "outputs": []
    },
    {
      "cell_type": "markdown",
      "source": [
        "**Código:**"
      ],
      "metadata": {
        "id": "JQMMrXvZQs3X"
      }
    },
    {
      "cell_type": "code",
      "source": [
        "# Entrada de datos\n",
        "peso = float(input(\"Ingrese su peso en kilogramos: \"))\n",
        "duracion = float(input(\"Ingrese la duración de la actividad en minutos: \"))\n",
        "calorias_por_minuto = 10\n",
        "\n",
        "\n",
        "calorias_totales = peso * duracion * calorias_por_minuto\n",
        "\n",
        "print(f\"Calorías totales quemadas: {calorias_totales:.2f}\")"
      ],
      "metadata": {
        "id": "k_fVDjUMQs3X",
        "outputId": "68345b3c-580c-4de1-b349-5cb94260622b",
        "colab": {
          "base_uri": "https://localhost:8080/"
        }
      },
      "execution_count": 6,
      "outputs": [
        {
          "output_type": "stream",
          "name": "stdout",
          "text": [
            "Ingrese su peso en kilogramos: 67\n",
            "Ingrese la duración de la actividad en minutos: 15\n",
            "Calorías totales quemadas: 10050.00\n"
          ]
        }
      ]
    },
    {
      "cell_type": "markdown",
      "source": [
        "---\n",
        "\n",
        "# Gracias por completar este laboratorio!\n",
        "\n",
        "---\n"
      ],
      "metadata": {
        "id": "qfNCVQ28DOIT"
      }
    }
  ]
}